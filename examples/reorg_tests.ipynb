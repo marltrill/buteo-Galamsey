{
 "metadata": {
  "language_info": {
   "codemirror_mode": {
    "name": "ipython",
    "version": 3
   },
   "file_extension": ".py",
   "mimetype": "text/x-python",
   "name": "python",
   "nbconvert_exporter": "python",
   "pygments_lexer": "ipython3",
   "version": "3.8.8-final"
  },
  "orig_nbformat": 2,
  "kernelspec": {
   "name": "python3",
   "display_name": "Python 3.8.8 64-bit ('green': conda)",
   "metadata": {
    "interpreter": {
     "hash": "a95dea4baa8b0a5487e3b911736b1dfe08e111b8d5f5715e18765428cf11f279"
    }
   }
  }
 },
 "nbformat": 4,
 "nbformat_minor": 2,
 "cells": [
  {
   "source": [
    "# reorg"
   ],
   "cell_type": "markdown",
   "metadata": {}
  },
  {
   "cell_type": "code",
   "execution_count": 6,
   "metadata": {},
   "outputs": [],
   "source": [
    "yellow_follow = 'C:/Users/caspe/Desktop/yellow/'\n",
    "import sys; sys.path.append(yellow_follow) \n",
    "\n",
    "import numpy as np\n",
    "from time import perf_counter"
   ]
  },
  {
   "cell_type": "code",
   "execution_count": 7,
   "metadata": {},
   "outputs": [],
   "source": [
    "from buteo.filters.kernel_generator import create_kernel"
   ]
  },
  {
   "cell_type": "code",
   "execution_count": 9,
   "metadata": {},
   "outputs": [
    {
     "output_type": "stream",
     "name": "stdout",
     "text": [
      "Generating kernel took: 0.076s\n[[[0.    0.    0.    0.    0.    0.    0.    0.    0.    0.    0.   ]\n  [0.    0.    0.    0.001 0.001 0.002 0.001 0.001 0.    0.    0.   ]\n  [0.    0.    0.001 0.002 0.003 0.003 0.003 0.002 0.001 0.    0.   ]\n  [0.    0.001 0.002 0.004 0.005 0.006 0.005 0.004 0.002 0.001 0.   ]\n  [0.    0.001 0.003 0.005 0.007 0.008 0.007 0.005 0.003 0.001 0.   ]\n  [0.    0.002 0.003 0.006 0.008 0.01  0.008 0.006 0.003 0.002 0.   ]\n  [0.    0.001 0.003 0.005 0.007 0.008 0.007 0.005 0.003 0.001 0.   ]\n  [0.    0.001 0.002 0.004 0.005 0.006 0.005 0.004 0.002 0.001 0.   ]\n  [0.    0.    0.001 0.002 0.003 0.003 0.003 0.002 0.001 0.    0.   ]\n  [0.    0.    0.    0.001 0.001 0.002 0.001 0.001 0.    0.    0.   ]\n  [0.    0.    0.    0.    0.    0.    0.    0.    0.    0.    0.   ]]\n\n [[0.    0.    0.    0.001 0.002 0.003 0.002 0.001 0.    0.    0.   ]\n  [0.    0.    0.003 0.004 0.005 0.005 0.005 0.004 0.003 0.    0.   ]\n  [0.    0.003 0.005 0.006 0.007 0.007 0.007 0.006 0.005 0.003 0.   ]\n  [0.001 0.004 0.006 0.007 0.008 0.008 0.008 0.007 0.006 0.004 0.001]\n  [0.002 0.005 0.007 0.008 0.009 0.01  0.009 0.008 0.007 0.005 0.002]\n  [0.003 0.005 0.007 0.008 0.01  0.012 0.01  0.008 0.007 0.005 0.003]\n  [0.002 0.005 0.007 0.008 0.009 0.01  0.009 0.008 0.007 0.005 0.002]\n  [0.001 0.004 0.006 0.007 0.008 0.008 0.008 0.007 0.006 0.004 0.001]\n  [0.    0.003 0.005 0.006 0.007 0.007 0.007 0.006 0.005 0.003 0.   ]\n  [0.    0.    0.003 0.004 0.005 0.005 0.005 0.004 0.003 0.    0.   ]\n  [0.    0.    0.    0.001 0.002 0.003 0.002 0.001 0.    0.    0.   ]]\n\n [[0.    0.    0.    0.    0.    0.    0.    0.    0.    0.    0.   ]\n  [0.    0.    0.    0.001 0.001 0.002 0.001 0.001 0.    0.    0.   ]\n  [0.    0.    0.001 0.002 0.003 0.003 0.003 0.002 0.001 0.    0.   ]\n  [0.    0.001 0.002 0.004 0.005 0.006 0.005 0.004 0.002 0.001 0.   ]\n  [0.    0.001 0.003 0.005 0.007 0.008 0.007 0.005 0.003 0.001 0.   ]\n  [0.    0.002 0.003 0.006 0.008 0.01  0.008 0.006 0.003 0.002 0.   ]\n  [0.    0.001 0.003 0.005 0.007 0.008 0.007 0.005 0.003 0.001 0.   ]\n  [0.    0.001 0.002 0.004 0.005 0.006 0.005 0.004 0.002 0.001 0.   ]\n  [0.    0.    0.001 0.002 0.003 0.003 0.003 0.002 0.001 0.    0.   ]\n  [0.    0.    0.    0.001 0.001 0.002 0.001 0.001 0.    0.    0.   ]\n  [0.    0.    0.    0.    0.    0.    0.    0.    0.    0.    0.   ]]]\n"
     ]
    }
   ],
   "source": [
    "\n",
    "np.set_printoptions(suppress=True)\n",
    "\n",
    "before = perf_counter()\n",
    "kernel, offsets, weights = create_kernel(\n",
    "    (3, 11, 11),\n",
    "    sigma=1,\n",
    "    spherical=True,\n",
    "    edge_weights=True,\n",
    "    offsets=True,\n",
    "    normalised=True,\n",
    "    distance_calc=\"linear\",\n",
    "    radius_method=\"ellipsoid\",\n",
    ")\n",
    "print(f\"Generating kernel took: {round(perf_counter() - before, 3)}s\")\n",
    "print(np.round(kernel, 3))"
   ]
  },
  {
   "cell_type": "code",
   "execution_count": null,
   "metadata": {},
   "outputs": [],
   "source": []
  }
 ]
}