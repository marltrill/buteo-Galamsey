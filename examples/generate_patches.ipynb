{
 "metadata": {
  "language_info": {
   "codemirror_mode": {
    "name": "ipython",
    "version": 3
   },
   "file_extension": ".py",
   "mimetype": "text/x-python",
   "name": "python",
   "nbconvert_exporter": "python",
   "pygments_lexer": "ipython3",
   "version": "3.8.3-final"
  },
  "orig_nbformat": 2,
  "kernelspec": {
   "name": "green",
   "display_name": "green",
   "language": "python"
  }
 },
 "nbformat": 4,
 "nbformat_minor": 2,
 "cells": [
  {
   "source": [
    "# Generate patches"
   ],
   "cell_type": "markdown",
   "metadata": {}
  },
  {
   "cell_type": "code",
   "execution_count": 1,
   "metadata": {},
   "outputs": [],
   "source": [
    "yellow_follow = 'C:/Users/caspe/Desktop/yellow/lib/'\n",
    "\n",
    "import sys; sys.path.append(yellow_follow) \n",
    "from patch_extraction import extract_patches\n",
    "from raster_io import raster_to_array, array_to_raster\n",
    "import numpy as np\n",
    "import sqlite3\n",
    "import pandas as pd\n",
    "from glob import glob\n",
    "import os\n",
    "\n",
    "\n",
    "from sqlalchemy import create_engine"
   ]
  },
  {
   "cell_type": "code",
   "execution_count": 2,
   "metadata": {},
   "outputs": [
    {
     "output_type": "stream",
     "name": "stdout",
     "text": [
      "(133225, 2) 133225\n"
     ]
    }
   ],
   "source": [
    "folder = \"C:/Users/caspe/Desktop/wall_data/\"\n",
    "images = glob(folder + '*.tif')\n",
    "for image in images:\n",
    "    name = os.path.splitext(os.path.basename(image))[0]\n",
    "    extract_patches(\n",
    "        image,\n",
    "        folder + f\"{name}.npy\",\n",
    "        size=60,\n",
    "        overlaps=[(30, 0), (30, 30), (0, 30)],\n",
    "        fill_value=0,\n",
    "        output_geom=folder + f\"{name}_geom.gpkg\",\n",
    "        verbose=False,\n",
    "    )\n",
    "    # break\n"
   ]
  },
  {
   "cell_type": "code",
   "execution_count": 11,
   "metadata": {},
   "outputs": [
    {
     "output_type": "execute_result",
     "data": {
      "text/plain": [
       "(116964, 64, 64)"
      ]
     },
     "metadata": {},
     "execution_count": 11
    }
   ],
   "source": [
    "ground_truth = np.load(folder + \"ground_truth.npy\")\n",
    "ground_truth.shape"
   ]
  },
  {
   "cell_type": "code",
   "execution_count": 3,
   "metadata": {},
   "outputs": [
    {
     "output_type": "execute_result",
     "data": {
      "text/plain": [
       "         ogc_fid      fid    people         area        volume  muni_code\n",
       "0              1     2551  0.896936    43.584155     93.980530      779.0\n",
       "1              2     2582  0.000000     0.000000      0.000000      779.0\n",
       "2              3     2583  0.000000     0.000000      0.000000      779.0\n",
       "3              4     2588  0.000000     0.000000      0.000000      779.0\n",
       "4              5     2589  0.000000     0.000000      0.000000      779.0\n",
       "...          ...      ...       ...          ...           ...        ...\n",
       "1974292  1974293  3483934  0.000000     0.000000      0.000000      766.0\n",
       "1974293  1974294  3483935  0.000000     0.000000      0.000000      766.0\n",
       "1974294  1974295  3483936  1.983452  1872.618227  11251.704869      766.0\n",
       "1974295  1974296  3483937  0.000000   275.866573   1650.423805      766.0\n",
       "1974296  1974297  3483938  0.000000    39.545029    210.083036      766.0\n",
       "\n",
       "[1974297 rows x 6 columns]"
      ],
      "text/html": "<div>\n<style scoped>\n    .dataframe tbody tr th:only-of-type {\n        vertical-align: middle;\n    }\n\n    .dataframe tbody tr th {\n        vertical-align: top;\n    }\n\n    .dataframe thead th {\n        text-align: right;\n    }\n</style>\n<table border=\"1\" class=\"dataframe\">\n  <thead>\n    <tr style=\"text-align: right;\">\n      <th></th>\n      <th>ogc_fid</th>\n      <th>fid</th>\n      <th>people</th>\n      <th>area</th>\n      <th>volume</th>\n      <th>muni_code</th>\n    </tr>\n  </thead>\n  <tbody>\n    <tr>\n      <th>0</th>\n      <td>1</td>\n      <td>2551</td>\n      <td>0.896936</td>\n      <td>43.584155</td>\n      <td>93.980530</td>\n      <td>779.0</td>\n    </tr>\n    <tr>\n      <th>1</th>\n      <td>2</td>\n      <td>2582</td>\n      <td>0.000000</td>\n      <td>0.000000</td>\n      <td>0.000000</td>\n      <td>779.0</td>\n    </tr>\n    <tr>\n      <th>2</th>\n      <td>3</td>\n      <td>2583</td>\n      <td>0.000000</td>\n      <td>0.000000</td>\n      <td>0.000000</td>\n      <td>779.0</td>\n    </tr>\n    <tr>\n      <th>3</th>\n      <td>4</td>\n      <td>2588</td>\n      <td>0.000000</td>\n      <td>0.000000</td>\n      <td>0.000000</td>\n      <td>779.0</td>\n    </tr>\n    <tr>\n      <th>4</th>\n      <td>5</td>\n      <td>2589</td>\n      <td>0.000000</td>\n      <td>0.000000</td>\n      <td>0.000000</td>\n      <td>779.0</td>\n    </tr>\n    <tr>\n      <th>...</th>\n      <td>...</td>\n      <td>...</td>\n      <td>...</td>\n      <td>...</td>\n      <td>...</td>\n      <td>...</td>\n    </tr>\n    <tr>\n      <th>1974292</th>\n      <td>1974293</td>\n      <td>3483934</td>\n      <td>0.000000</td>\n      <td>0.000000</td>\n      <td>0.000000</td>\n      <td>766.0</td>\n    </tr>\n    <tr>\n      <th>1974293</th>\n      <td>1974294</td>\n      <td>3483935</td>\n      <td>0.000000</td>\n      <td>0.000000</td>\n      <td>0.000000</td>\n      <td>766.0</td>\n    </tr>\n    <tr>\n      <th>1974294</th>\n      <td>1974295</td>\n      <td>3483936</td>\n      <td>1.983452</td>\n      <td>1872.618227</td>\n      <td>11251.704869</td>\n      <td>766.0</td>\n    </tr>\n    <tr>\n      <th>1974295</th>\n      <td>1974296</td>\n      <td>3483937</td>\n      <td>0.000000</td>\n      <td>275.866573</td>\n      <td>1650.423805</td>\n      <td>766.0</td>\n    </tr>\n    <tr>\n      <th>1974296</th>\n      <td>1974297</td>\n      <td>3483938</td>\n      <td>0.000000</td>\n      <td>39.545029</td>\n      <td>210.083036</td>\n      <td>766.0</td>\n    </tr>\n  </tbody>\n</table>\n<p>1974297 rows × 6 columns</p>\n</div>"
     },
     "metadata": {},
     "execution_count": 3
    }
   ],
   "source": [
    "# Load data\n",
    "in_path = folder + \"ground_truth.sqlite\"\n",
    "\n",
    "db_cnx = sqlite3.connect(in_path)\n",
    "df = pd.read_sql_query(\"SELECT * FROM 'ground_truth';\", db_cnx)\n",
    "df"
   ]
  },
  {
   "cell_type": "code",
   "execution_count": 4,
   "metadata": {},
   "outputs": [],
   "source": [
    "df['id'] = df.index"
   ]
  },
  {
   "cell_type": "code",
   "execution_count": 5,
   "metadata": {},
   "outputs": [],
   "source": [
    "y = df[['id', 'fid', 'muni_code', 'volume', 'area', 'people']]\n",
    "# np.save(folder + \"ground_truth.npy\", y.values)"
   ]
  },
  {
   "cell_type": "code",
   "execution_count": 6,
   "metadata": {},
   "outputs": [],
   "source": [
    "images = glob(folder + '*.npy')\n",
    "for image in images:\n",
    "    name = os.path.splitext(os.path.basename(image))[0]\n",
    "    x = np.load(image)\n",
    "    np.save(folder + f\"{name}_project_area.npy\", x[y['fid'].values])"
   ]
  },
  {
   "cell_type": "code",
   "execution_count": 7,
   "metadata": {},
   "outputs": [],
   "source": [
    "bv = np.load(folder + \"structural_volume_mult25_project_area.npy\")\n",
    "# b8 = np.load(folder + \"b08_project_area.npy\")"
   ]
  },
  {
   "cell_type": "code",
   "execution_count": 8,
   "metadata": {},
   "outputs": [
    {
     "output_type": "execute_result",
     "data": {
      "text/plain": [
       "(1974297, 16, 16)"
      ]
     },
     "metadata": {},
     "execution_count": 8
    }
   ],
   "source": [
    "bv.shape"
   ]
  },
  {
   "cell_type": "code",
   "execution_count": null,
   "metadata": {},
   "outputs": [],
   "source": [
    "all_images = np.stack([\n",
    "    np.load(folder + \"b04_project_area.npy\"),\n",
    "    np.load(folder + \"b04_tex_project_area.npy\"),\n",
    "    np.load(folder + \"b08_project_area.npy\"),\n",
    "    np.load(folder + \"b08_tex_project_area.npy\"),\n",
    "    np.load(folder + \"bs_asc_project_area.npy\"),\n",
    "    np.load(folder + \"bs_desc_project_area.npy\"),\n",
    "    np.load(folder + \"coh_asc_project_area.npy\"),\n",
    "    np.load(folder + \"coh_desc_project_area.npy\"),\n",
    "    np.load(folder + \"nl_project_area.npy\"),\n",
    "], axis=1)\n",
    "all_images.shape"
   ]
  },
  {
   "cell_type": "code",
   "execution_count": null,
   "metadata": {},
   "outputs": [],
   "source": [
    "np.save(folder + \"all_project_area.npy\", all_images)"
   ]
  }
 ]
}