{
 "metadata": {
  "language_info": {
   "codemirror_mode": {
    "name": "ipython",
    "version": 3
   },
   "file_extension": ".py",
   "mimetype": "text/x-python",
   "name": "python",
   "nbconvert_exporter": "python",
   "pygments_lexer": "ipython3",
   "version": "3.8.3-final"
  },
  "orig_nbformat": 2,
  "kernelspec": {
   "name": "green",
   "display_name": "green",
   "language": "python"
  }
 },
 "nbformat": 4,
 "nbformat_minor": 2,
 "cells": [
  {
   "source": [
    "# Yellow Examples"
   ],
   "cell_type": "markdown",
   "metadata": {}
  },
  {
   "cell_type": "code",
   "execution_count": 2,
   "metadata": {},
   "outputs": [],
   "source": [
    "yellow_follow = 'C:/Users/caspe/Desktop/yellow/lib/'\n",
    "\n",
    "import sys; sys.path.append(yellow_follow) \n",
    "from sen2mosaic.get_bounds import get_bounds\n",
    "from sen2mosaic.download import connectToAPI, search, download\n",
    "from raster_io import raster_to_array, array_to_raster, raster_to_metadata"
   ]
  },
  {
   "cell_type": "code",
   "execution_count": 4,
   "metadata": {},
   "outputs": [
    {
     "output_type": "execute_result",
     "data": {
      "text/plain": [
       "[{'name': '33UUB',\n",
       "  'bounds': [11.800511439000047,\n",
       "   54.91902653800008,\n",
       "   13.591601298000057,\n",
       "   55.93727334500005]}]"
      ]
     },
     "metadata": {},
     "execution_count": 4
    }
   ],
   "source": [
    "# Lets download a sentinel1 and 2 image\n",
    "project_geom = 'C:/Users/caspe/Desktop/yellow/geometry/copenhagen.shp'\n",
    "download_folder = 'C:/Users/caspe/Desktop/yellow_example/'\n",
    "\n",
    "bounds = get_bounds(project_geom)\n",
    "bounds"
   ]
  },
  {
   "cell_type": "code",
   "execution_count": 5,
   "metadata": {},
   "outputs": [
    {
     "output_type": "stream",
     "name": "stdout",
     "text": [
      "Skipping file S2A_MSIL2A_20210116T102351_N0214_R065_T33UUB_20210116T115302.SAFE, as it has already been downloaded in the directory C:/Users/caspe/Desktop/yellow_example/. If you want to re-download it, delete it and run again.\n"
     ]
    },
    {
     "output_type": "execute_result",
     "data": {
      "text/plain": [
       "[]"
      ]
     },
     "metadata": {},
     "execution_count": 5
    }
   ],
   "source": [
    "# Download a tile\n",
    "api_connection = connectToAPI('casperfibaek', 'Goldfish12')\n",
    "\n",
    "sdf = search(bounds[0][\"name\"], level='2A', start='20210101', end='20210201', maxcloud=20, minsize=100.0)\n",
    "download(sdf, download_folder)"
   ]
  },
  {
   "cell_type": "code",
   "execution_count": 6,
   "metadata": {},
   "outputs": [],
   "source": [
    "# Lets read the downloaded rasters\n",
    "b04_ref = download_folder + 'b04.jp2'\n",
    "b08_ref = download_folder + 'b08.jp2'\n",
    "b04 = raster_to_array(b04_ref)\n",
    "b08 = raster_to_array(b08_ref)"
   ]
  },
  {
   "cell_type": "code",
   "execution_count": 7,
   "metadata": {},
   "outputs": [
    {
     "output_type": "execute_result",
     "data": {
      "text/plain": [
       "array([[3753, 3764, 3689, ..., 8304, 3882, 5760],\n",
       "       [3469, 3580, 3472, ..., 4352, 5500, 5512],\n",
       "       [3194, 3241, 3083, ..., 5928, 6608, 5329],\n",
       "       ...,\n",
       "       [ 735,  767,  752, ...,   81,   92,   17],\n",
       "       [ 777,  781,  774, ...,   88,  110,   81],\n",
       "       [ 772,  791,  785, ...,   86,   66,   53]], dtype=uint16)"
      ]
     },
     "metadata": {},
     "execution_count": 7
    }
   ],
   "source": [
    "b04"
   ]
  },
  {
   "cell_type": "code",
   "execution_count": 8,
   "metadata": {},
   "outputs": [
    {
     "output_type": "execute_result",
     "data": {
      "text/plain": [
       "array([[ 0.03620955,  0.03089598,  0.0384465 , ...,  0.01751065,\n",
       "         0.02657974, -0.03448276],\n",
       "       [ 0.03154662,  0.01540154,  0.03111483, ...,  0.03030303,\n",
       "        -0.00732601, -0.00510576],\n",
       "       [ 0.02054584,  0.01083473,  0.03641194, ..., -0.04109589,\n",
       "        -0.00823924, -0.01485431],\n",
       "       ...,\n",
       "       [ 0.59064327,  0.57659398,  0.57199772, ..., -0.76086957,\n",
       "        -0.97849462, -0.88888889],\n",
       "       [ 0.57342849,  0.57542811,  0.55517241, ..., -0.51724138,\n",
       "        -0.375     , -0.52830189],\n",
       "       [ 0.57442117,  0.56430735,  0.55511476, ..., -0.33333333,\n",
       "        -0.45054945, -0.96296296]])"
      ]
     },
     "metadata": {},
     "execution_count": 8
    }
   ],
   "source": [
    "# Lets calculate some index\n",
    "from stats_indices import calc_indices\n",
    "ndvi = calc_indices('ndvi', B04=b04, B08=b08)\n",
    "ndvi"
   ]
  },
  {
   "cell_type": "code",
   "execution_count": 9,
   "metadata": {},
   "outputs": [
    {
     "output_type": "execute_result",
     "data": {
      "text/plain": [
       "'C:\\\\Users\\\\caspe\\\\Desktop\\\\yellow_example\\\\ndvi.tif'"
      ]
     },
     "metadata": {},
     "execution_count": 9
    }
   ],
   "source": [
    "# Saving the raster back\n",
    "array_to_raster(ndvi, out_raster=download_folder + 'ndvi.tif', reference_raster=b04_ref)"
   ]
  },
  {
   "cell_type": "code",
   "execution_count": 11,
   "metadata": {},
   "outputs": [
    {
     "output_type": "execute_result",
     "data": {
      "text/plain": [
       "'C:\\\\Users\\\\caspe\\\\Desktop\\\\yellow_example\\\\b04_mad.tif'"
      ]
     },
     "metadata": {},
     "execution_count": 11
    }
   ],
   "source": [
    "# What about some textures?\n",
    "from stats_filters import mad_std_filter\n",
    "b4_mad = mad_std_filter(b04, width=5)\n",
    "array_to_raster(b4_mad, out_raster=download_folder + 'b04_mad.tif', reference_raster=b04_ref)"
   ]
  },
  {
   "cell_type": "code",
   "execution_count": 8,
   "metadata": {},
   "outputs": [
    {
     "output_type": "execute_result",
     "data": {
      "text/plain": [
       "'C:\\\\Users\\\\caspe\\\\Desktop\\\\yellow_example\\\\b08_std3.tif'"
      ]
     },
     "metadata": {},
     "execution_count": 8
    }
   ],
   "source": [
    "# What about some textures?\n",
    "from stats_filters import standard_deviation_filter\n",
    "b8_std = standard_deviation_filter(b08, width=3)\n",
    "array_to_raster(b8_std, out_raster=download_folder + 'b08_std3.tif', reference_raster=b08_ref)"
   ]
  },
  {
   "cell_type": "code",
   "execution_count": 17,
   "metadata": {},
   "outputs": [
    {
     "output_type": "execute_result",
     "data": {
      "text/plain": [
       "array([[1, 1, 1, ..., 1, 1, 1],\n",
       "       [1, 1, 1, ..., 1, 1, 1],\n",
       "       [1, 1, 1, ..., 1, 1, 1],\n",
       "       ...,\n",
       "       [1, 1, 1, ..., 0, 0, 0],\n",
       "       [1, 1, 1, ..., 0, 0, 0],\n",
       "       [1, 1, 1, ..., 0, 0, 0]], dtype=uint8)"
      ]
     },
     "metadata": {},
     "execution_count": 17
    }
   ],
   "source": [
    "array_to_raster((b04 > 200).astype('uint8'), out_raster=download"
   ]
  },
  {
   "cell_type": "code",
   "execution_count": 18,
   "metadata": {},
   "outputs": [
    {
     "output_type": "execute_result",
     "data": {
      "text/plain": [
       "array([[ 0.03620955,  0.03089598,  0.0384465 , ...,  0.01751065,\n",
       "         0.02657974, -0.03448276],\n",
       "       [ 0.03154662,  0.01540154,  0.03111483, ...,  0.03030303,\n",
       "        -0.00732601, -0.00510576],\n",
       "       [ 0.02054584,  0.01083473,  0.03641194, ..., -0.04109589,\n",
       "        -0.00823924, -0.01485431],\n",
       "       ...,\n",
       "       [ 0.59064327,  0.57659398,  0.57199772, ..., -0.76086957,\n",
       "        -0.97849462, -0.88888889],\n",
       "       [ 0.57342849,  0.57542811,  0.55517241, ..., -0.51724138,\n",
       "        -0.375     , -0.52830189],\n",
       "       [ 0.57442117,  0.56430735,  0.55511476, ..., -0.33333333,\n",
       "        -0.45054945, -0.96296296]])"
      ]
     },
     "metadata": {},
     "execution_count": 18
    }
   ],
   "source": [
    "deep_learning_input = np.concatenate([b4, b8, b4_mad, ndvi], axis=1)"
   ]
  },
  {
   "cell_type": "code",
   "execution_count": null,
   "metadata": {},
   "outputs": [],
   "source": []
  }
 ]
}